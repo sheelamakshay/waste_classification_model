{
 "cells": [
  {
   "cell_type": "code",
   "execution_count": null,
   "metadata": {},
   "outputs": [],
   "source": [
    "pip install opencv-python"
   ]
  },
  {
   "cell_type": "code",
   "execution_count": null,
   "metadata": {
    "_cell_guid": "b1076dfc-b9ad-4769-8c92-a6c4dae69d19",
    "_uuid": "8f2839f25d086af736a60e9eeb907d3b93b6e0e5"
   },
   "outputs": [],
   "source": [
    "import numpy as np\n",
    "import pandas as pd \n",
    "import matplotlib.pyplot as plt\n",
    "from tqdm import tqdm\n",
    "import cv2\n",
    "\n",
    "import warnings\n",
    "warnings.filterwarnings('ignore')\n",
    "import os\n",
    "#for dirname, _, _ in os.walk('/kaggle/input'):\n",
    "        #print(dirname)"
   ]
  },
  {
   "cell_type": "code",
   "execution_count": null,
   "metadata": {},
   "outputs": [],
   "source": [
    "train_path = \"C:/EDUNET/New Team\\Datasets for the Internship Projects/Waste Classification Data/DATASET/DATASET/TRAIN\"\n",
    "test_path = \"C:/EDUNET/New Team\\Datasets for the Internship Projects/Waste Classification Data/DATASET/DATASET/TEST\""
   ]
  },
  {
   "cell_type": "markdown",
   "metadata": {},
   "source": [
    "## Import Libraries"
   ]
  },
  {
   "cell_type": "code",
   "execution_count": null,
   "metadata": {},
   "outputs": [],
   "source": [
    "from tensorflow.keras.models import Sequential \n",
    "from tensorflow.keras.layers import Conv2D, MaxPooling2D, Activation, Dropout, Flatten, Dense, BatchNormalization\n",
    "from tensorflow.keras.preprocessing.image import ImageDataGenerator, img_to_array, load_img\n",
    "from tensorflow.keras.utils import plot_model\n",
    "from glob import glob"
   ]
  },
  {
   "cell_type": "markdown",
   "metadata": {},
   "source": [
    "## Visualization"
   ]
  },
  {
   "cell_type": "code",
   "execution_count": null,
   "metadata": {},
   "outputs": [],
   "source": [
    "x_data = [] \n",
    "y_data = [] \n",
    "\n",
    "for category in glob(train_path+'/*'):\n",
    "    for file in tqdm(glob(category+'/*')):\n",
    "        img_array=cv2.imread(file)\n",
    "        img_array = cv2.cvtColor(img_array, cv2.COLOR_BGR2RGB)\n",
    "        x_data.append(img_array) \n",
    "        y_data.append(category.split(\"/\")[-1])\n",
    "        \n",
    "data=pd.DataFrame({'image': x_data,'label': y_data})"
   ]
  },
  {
   "cell_type": "code",
   "execution_count": null,
   "metadata": {},
   "outputs": [],
   "source": [
    "data.shape"
   ]
  },
  {
   "cell_type": "code",
   "execution_count": null,
   "metadata": {},
   "outputs": [],
   "source": [
    "from collections import Counter\n",
    "Counter(y_data)"
   ]
  },
  {
   "cell_type": "code",
   "execution_count": null,
   "metadata": {},
   "outputs": [],
   "source": [
    "colors = ['#a0d157','#c48bb8']\n",
    "plt.pie(data.label.value_counts(),startangle=90,explode=[0.05,0.05],autopct='%0.2f%%',\n",
    "        labels=['Organic', 'Recyclable'], colors= colors,radius=2)\n",
    "plt.show()"
   ]
  },
  {
   "cell_type": "code",
   "execution_count": null,
   "metadata": {},
   "outputs": [],
   "source": [
    "plt.figure(figsize=(20,15))\n",
    "for i in range(9):\n",
    "    plt.subplot(4,3,(i%12)+1)\n",
    "    index=np.random.randint(15000)\n",
    "    plt.title('This image is of {0}'.format(data.label[index]),fontdict={'size':20,'weight':'bold'})\n",
    "    plt.imshow(data.image[index])\n",
    "    plt.tight_layout()"
   ]
  },
  {
   "cell_type": "markdown",
   "metadata": {},
   "source": [
    "* O -> Organic\n",
    "* R -> Recyclable"
   ]
  },
  {
   "cell_type": "code",
   "execution_count": null,
   "metadata": {},
   "outputs": [],
   "source": [
    "className = glob(train_path + '/*' )\n",
    "numberOfClass = len(className)\n",
    "print(\"Number Of Class: \",numberOfClass)"
   ]
  },
  {
   "cell_type": "markdown",
   "metadata": {},
   "source": [
    "# Convolutional Neural Network - CNN"
   ]
  },
  {
   "cell_type": "code",
   "execution_count": null,
   "metadata": {},
   "outputs": [],
   "source": [
    "model = Sequential()\n",
    "model.add(Conv2D(32,(3,3),input_shape = (224,224,3)))\n",
    "model.add(Activation(\"relu\"))\n",
    "model.add(MaxPooling2D())\n",
    "\n",
    "model.add(Conv2D(64,(3,3)))  \n",
    "model.add(Activation(\"relu\"))\n",
    "model.add(MaxPooling2D())\n",
    "\n",
    "model.add(Conv2D(128,(3,3)))\n",
    "model.add(Activation(\"relu\"))\n",
    "model.add(MaxPooling2D())\n",
    "\n",
    "model.add(Flatten())\n",
    "model.add(Dense(256))\n",
    "model.add(Activation(\"relu\"))\n",
    "model.add(Dropout(0.5))\n",
    "model.add(Dense(64))\n",
    "model.add(Activation(\"relu\"))\n",
    "model.add(Dropout(0.5))\n",
    "model.add(Dense(numberOfClass)) # output\n",
    "model.add(Activation(\"sigmoid\"))\n",
    "\n",
    "model.compile(loss = \"binary_crossentropy\",\n",
    "              optimizer = \"adam\",\n",
    "              metrics = [\"accuracy\"])\n",
    "\n",
    "batch_size = 256"
   ]
  },
  {
   "cell_type": "code",
   "execution_count": null,
   "metadata": {},
   "outputs": [],
   "source": [
    "pip install pydot"
   ]
  },
  {
   "cell_type": "code",
   "execution_count": null,
   "metadata": {},
   "outputs": [],
   "source": [
    "plot_model(model)"
   ]
  },
  {
   "cell_type": "code",
   "execution_count": null,
   "metadata": {},
   "outputs": [],
   "source": [
    "train_datagen = ImageDataGenerator(rescale= 1./255)"
   ]
  },
  {
   "cell_type": "code",
   "execution_count": null,
   "metadata": {},
   "outputs": [],
   "source": [
    "test_datagen = ImageDataGenerator(rescale= 1./255)"
   ]
  },
  {
   "cell_type": "code",
   "execution_count": null,
   "metadata": {},
   "outputs": [],
   "source": [
    "train_generator = train_datagen.flow_from_directory(\n",
    "        train_path, \n",
    "        target_size= (224,224),\n",
    "        batch_size = batch_size,\n",
    "        color_mode= \"rgb\",\n",
    "        class_mode= \"categorical\")\n",
    "\n",
    "test_generator = test_datagen.flow_from_directory(\n",
    "        test_path, \n",
    "        target_size= (224,224),\n",
    "        batch_size = batch_size,\n",
    "        color_mode= \"rgb\",\n",
    "        class_mode= \"categorical\")"
   ]
  },
  {
   "cell_type": "code",
   "execution_count": null,
   "metadata": {},
   "outputs": [],
   "source": [
    "hist = model.fit(\n",
    "    train_generator,\n",
    "    epochs=10,\n",
    "    validation_data=test_generator\n",
    ")"
   ]
  },
  {
   "cell_type": "code",
   "execution_count": null,
   "metadata": {
    "execution": {
     "iopub.execute_input": "2022-07-07T20:32:31.868772Z",
     "iopub.status.busy": "2022-07-07T20:32:31.868328Z",
     "iopub.status.idle": "2022-07-07T20:32:32.123347Z",
     "shell.execute_reply": "2022-07-07T20:32:32.122325Z",
     "shell.execute_reply.started": "2022-07-07T20:32:31.868721Z"
    }
   },
   "outputs": [],
   "source": [
    "plt.figure(figsize=[10,6])\n",
    "plt.plot(hist.history[\"accuracy\"], label = \"Train acc\")\n",
    "plt.plot(hist.history[\"val_accuracy\"], label = \"Validation acc\")\n",
    "plt.legend()\n",
    "plt.show()"
   ]
  },
  {
   "cell_type": "code",
   "execution_count": null,
   "metadata": {
    "execution": {
     "iopub.execute_input": "2022-07-07T20:32:32.125577Z",
     "iopub.status.busy": "2022-07-07T20:32:32.124940Z",
     "iopub.status.idle": "2022-07-07T20:32:32.359597Z",
     "shell.execute_reply": "2022-07-07T20:32:32.357652Z",
     "shell.execute_reply.started": "2022-07-07T20:32:32.125535Z"
    }
   },
   "outputs": [],
   "source": [
    "plt.figure(figsize=(10,6))\n",
    "plt.plot(hist.history['loss'], label = \"Train loss\")\n",
    "plt.plot(hist.history['val_loss'], label = \"Validation loss\")\n",
    "plt.legend()\n",
    "plt.show()"
   ]
  },
  {
   "cell_type": "markdown",
   "metadata": {},
   "source": [
    "## Model Prediction"
   ]
  },
  {
   "cell_type": "code",
   "execution_count": null,
   "metadata": {
    "execution": {
     "iopub.execute_input": "2022-07-07T21:34:46.884453Z",
     "iopub.status.busy": "2022-07-07T21:34:46.884087Z",
     "iopub.status.idle": "2022-07-07T21:34:46.890588Z",
     "shell.execute_reply": "2022-07-07T21:34:46.889375Z",
     "shell.execute_reply.started": "2022-07-07T21:34:46.884421Z"
    }
   },
   "outputs": [],
   "source": [
    "def predict_func(img): \n",
    "    plt.figure(figsize=(6,4))\n",
    "    plt.imshow(cv2.cvtColor(img, cv2.COLOR_BGR2RGB))\n",
    "    plt.tight_layout()\n",
    "    img = cv2.resize(img, (224, 224))\n",
    "    img = np.reshape(img, [-1, 224, 224,3])\n",
    "    result = np.argmax(model.predict(img))\n",
    "    if result == 0: print(\"\\033[94m\"+\"This image -> Recyclable\"+\"\\033[0m\")\n",
    "    elif result ==1: print(\"\\033[94m\"+\"This image -> Organic\"+\"\\033[0m\")"
   ]
  },
  {
   "cell_type": "code",
   "execution_count": null,
   "metadata": {
    "execution": {
     "iopub.execute_input": "2022-07-07T21:34:53.518931Z",
     "iopub.status.busy": "2022-07-07T21:34:53.518575Z",
     "iopub.status.idle": "2022-07-07T21:34:53.855728Z",
     "shell.execute_reply": "2022-07-07T21:34:53.854677Z",
     "shell.execute_reply.started": "2022-07-07T21:34:53.518897Z"
    }
   },
   "outputs": [],
   "source": [
    "test_img = cv2.imread(\"/kaggle/input/waste-classification-data/DATASET/TEST/O/O_12573.jpg\")\n",
    "predict_func(test_img)"
   ]
  },
  {
   "cell_type": "code",
   "execution_count": null,
   "metadata": {
    "execution": {
     "iopub.execute_input": "2022-07-07T21:35:02.384144Z",
     "iopub.status.busy": "2022-07-07T21:35:02.383780Z",
     "iopub.status.idle": "2022-07-07T21:35:02.680298Z",
     "shell.execute_reply": "2022-07-07T21:35:02.679291Z",
     "shell.execute_reply.started": "2022-07-07T21:35:02.384109Z"
    }
   },
   "outputs": [],
   "source": [
    "test_img = cv2.imread(\"/kaggle/input/waste-classification-data/DATASET/TEST/R/R_10753.jpg\")\n",
    "predict_func(test_img)"
   ]
  }
 ],
 "metadata": {
  "kernelspec": {
   "display_name": "Python 3",
   "language": "python",
   "name": "python3"
  },
  "language_info": {
   "codemirror_mode": {
    "name": "ipython",
    "version": 3
   },
   "file_extension": ".py",
   "mimetype": "text/x-python",
   "name": "python",
   "nbconvert_exporter": "python",
   "pygments_lexer": "ipython3",
   "version": "3.12.2"
  }
 },
 "nbformat": 4,
 "nbformat_minor": 4
}
